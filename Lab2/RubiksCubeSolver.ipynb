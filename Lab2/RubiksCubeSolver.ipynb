{
 "cells": [
  {
   "cell_type": "code",
   "execution_count": 24,
   "metadata": {},
   "outputs": [
    {
     "name": "stdout",
     "output_type": "stream",
     "text": [
      "No solution found\n"
     ]
    }
   ],
   "source": [
    "from queue import PriorityQueue\n",
    "\n",
    "# Define the goal state\n",
    "goal_state = (\n",
    "    \"W\", \"W\", \"W\", \"W\",  # Top\n",
    "    \"O\", \"O\", \"O\", \"O\",  # Front\n",
    "    \"G\", \"G\", \"G\", \"G\",  # Right\n",
    "    \"R\", \"R\", \"R\", \"R\",  # Back\n",
    "    \"B\", \"B\", \"B\", \"B\",  # Left\n",
    "    \"Y\", \"Y\", \"Y\", \"Y\"   # Bottom\n",
    ")\n",
    "\n",
    "def heuristic(state):\n",
    "    return sum(1 for i in range(len(state)) if state[i] != goal_state[i])\n",
    "\n",
    "# Apply a move to the state\n",
    "def apply_move(state, move):\n",
    "    new_state = list(state)\n",
    "    if move == \"U\":\n",
    "        # Rotate the top layer clockwise\n",
    "        new_state[0], new_state[1], new_state[2], new_state[3] = state[1], state[2], state[3], state[0]\n",
    "    elif move == \"F\":\n",
    "        # Rotate the front layer clockwise\n",
    "        new_state[4], new_state[5], new_state[6], new_state[7] = state[5], state[6], state[7], state[4]\n",
    "    elif move == \"R\":\n",
    "        # Rotate the right layer clockwise\n",
    "        new_state[8], new_state[9], new_state[10], new_state[11] = state[9], state[10], state[11], state[8]\n",
    "    # Add more moves as necessary (L, B, D, etc.)\n",
    "    return tuple(new_state)\n",
    "\n",
    "# A* algorithm\n",
    "def rubiks_solver(start_state):\n",
    "    open_set = PriorityQueue()\n",
    "    open_set.put((0, start_state, []))\n",
    "    visited = set()\n",
    "\n",
    "    while not open_set.empty():\n",
    "        _, current_state, path = open_set.get()\n",
    "\n",
    "        if current_state in visited:\n",
    "            continue\n",
    "        visited.add(current_state)\n",
    "\n",
    "        # Check if the goal is reached\n",
    "        if current_state == goal_state:\n",
    "            return path\n",
    "\n",
    "        # Generate possible moves\n",
    "        for move in [\"U\", \"F\", \"R\"]:\n",
    "            next_state = apply_move(current_state, move)\n",
    "            if next_state not in visited:\n",
    "                cost = len(path) + 1 + heuristic(next_state)\n",
    "                open_set.put((cost, next_state, path + [move]))\n",
    "\n",
    "    return None  # No solution found\n",
    "\n",
    "# Example scrambled state (for 2x2 cube representation)\n",
    "start_state = (\n",
    "    \"W\", \"W\", \"G\", \"G\",\n",
    "    \"O\", \"B\", \"O\", \"B\",\n",
    "    \"R\", \"Y\", \"R\", \"Y\",\n",
    "    \"B\", \"O\", \"B\", \"O\",\n",
    "    \"G\", \"R\", \"G\", \"R\",\n",
    "    \"Y\", \"Y\", \"W\", \"W\"\n",
    ")\n",
    "\n",
    "# Solve the Rubik's Cube\n",
    "solution = rubiks_solver(start_state)\n",
    "\n",
    "if solution:\n",
    "    print(\"Solution found:\", \" -> \".join(solution))\n",
    "else:\n",
    "    print(\"No solution found\")\n"
   ]
  },
  {
   "cell_type": "code",
   "execution_count": null,
   "metadata": {},
   "outputs": [],
   "source": []
  }
 ],
 "metadata": {
  "kernelspec": {
   "display_name": "Python 3",
   "language": "python",
   "name": "python3"
  },
  "language_info": {
   "codemirror_mode": {
    "name": "ipython",
    "version": 3
   },
   "file_extension": ".py",
   "mimetype": "text/x-python",
   "name": "python",
   "nbconvert_exporter": "python",
   "pygments_lexer": "ipython3",
   "version": "3.12.5"
  }
 },
 "nbformat": 4,
 "nbformat_minor": 2
}
